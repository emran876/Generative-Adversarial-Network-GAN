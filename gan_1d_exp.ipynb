{
 "cells": [
  {
   "cell_type": "markdown",
   "metadata": {},
   "source": [
    "## Generative Adversarial Network (GAN) "
   ]
  },
  {
   "cell_type": "code",
   "execution_count": 398,
   "metadata": {},
   "outputs": [],
   "source": [
    "import numpy as np\n",
    "import matplotlib.pyplot as plt\n",
    "from numpy.random import rand, randn, randint, uniform\n",
    "%matplotlib inline"
   ]
  },
  {
   "cell_type": "markdown",
   "metadata": {},
   "source": [
    "#### Generate random sample"
   ]
  },
  {
   "cell_type": "code",
   "execution_count": 566,
   "metadata": {},
   "outputs": [],
   "source": [
    "def real_samples(n=100, a=0.5):\n",
    "    X=[]\n",
    "    # generate an array of random numbers between -a and +a\n",
    "    x = rand(n) -a\n",
    "    #x = np.linspace(-a,a, n)\n",
    "    # create a function: y= exp(-ax)\n",
    "    for i in range(n):\n",
    "        a = 2.0 #uniform(0.1, 1.0)\n",
    "        c = np.math.pi\n",
    "        x2 = np.exp(-a*x[i])\n",
    "        X.append([x[i], x2])\n",
    "    \n",
    "    y = np.ones((n, 1)) # label class\n",
    "    return np.array(X), y"
   ]
  },
  {
   "cell_type": "code",
   "execution_count": 567,
   "metadata": {},
   "outputs": [],
   "source": [
    "X,y=real_samples(100, 1)"
   ]
  },
  {
   "cell_type": "code",
   "execution_count": 552,
   "metadata": {},
   "outputs": [
    {
     "data": {
      "text/plain": [
       "(array([[-0.16028682,  1.37791797],\n",
       "        [-0.92504803,  6.36043051]]),\n",
       " array([[1.],\n",
       "        [1.]]))"
      ]
     },
     "execution_count": 552,
     "metadata": {},
     "output_type": "execute_result"
    }
   ],
   "source": [
    "X[0:2], y[0:2]"
   ]
  },
  {
   "cell_type": "code",
   "execution_count": 568,
   "metadata": {},
   "outputs": [
    {
     "data": {
      "text/plain": [
       "<matplotlib.collections.PathCollection at 0x7f67373561c0>"
      ]
     },
     "execution_count": 568,
     "metadata": {},
     "output_type": "execute_result"
    },
    {
     "data": {
      "image/png": "[encoded data removed]",
      "text/plain": [
       "<Figure size 432x288 with 1 Axes>"
      ]
     },
     "metadata": {
      "needs_background": "light"
     },
     "output_type": "display_data"
    }
   ],
   "source": [
    "plt.scatter(X[:,0], X[:,1], color='red')"
   ]
  },
  {
   "cell_type": "code",
   "execution_count": 554,
   "metadata": {},
   "outputs": [],
   "source": [
    "# generate random noise\n",
    "def generate_noise(ndim, n):\n",
    "    x = randn(ndim * n)\n",
    "    x = x.reshape(n, ndim)\n",
    "    return x"
   ]
  },
  {
   "cell_type": "code",
   "execution_count": 555,
   "metadata": {},
   "outputs": [],
   "source": [
    "from tensorflow.keras.models import Sequential\n",
    "from tensorflow.keras.layers import Dense, LeakyReLU\n",
    "from tensorflow.keras.utils import plot_model"
   ]
  },
  {
   "cell_type": "code",
   "execution_count": 556,
   "metadata": {},
   "outputs": [],
   "source": [
    "# define discriminator model\n",
    "def discriminator(ndim=2):\n",
    "    model = Sequential()\n",
    "    model.add(Dense(32, activation='relu', kernel_initializer='he_uniform', input_dim=ndim)) #\n",
    "    model.add(Dense(1, activation='sigmoid'))\n",
    "    model.compile(loss='binary_crossentropy', optimizer='adam', metrics=['accuracy'])\n",
    "    return model"
   ]
  },
  {
   "cell_type": "code",
   "execution_count": 557,
   "metadata": {},
   "outputs": [],
   "source": [
    "#model = discriminator()\n",
    "# summarize the model\n",
    "#model.summary()\n",
    "# plot the model\n",
    "#plot_model(model, to_file='discriminator_plot.png', show_shapes=True, show_layer_names=True)"
   ]
  },
  {
   "cell_type": "code",
   "execution_count": 558,
   "metadata": {},
   "outputs": [],
   "source": [
    "def generator(n_intputs=2, n_outputs=2):\n",
    "    model = Sequential()\n",
    "    model.add(Dense(32, activation='relu', kernel_initializer='he_uniform', input_dim=n_intputs))\n",
    "    model.add(Dense(n_outputs, activation='linear'))\n",
    "    return model"
   ]
  },
  {
   "cell_type": "code",
   "execution_count": 559,
   "metadata": {},
   "outputs": [],
   "source": [
    "# Adversarial model\n",
    "def gan(discriminator,generator):\n",
    "    discriminator.trainable = False\n",
    "    model = Sequential()\n",
    "    model.add(generator)\n",
    "    model.add(discriminator)\n",
    "    model.compile(loss='binary_crossentropy', optimizer='adam')\n",
    "    return model"
   ]
  },
  {
   "cell_type": "code",
   "execution_count": 560,
   "metadata": {},
   "outputs": [],
   "source": [
    "#model = generator()\n",
    "\n",
    "#model.summary()\n",
    "# plot the model\n",
    "#plot_model(model, to_file='discriminator_plot.png', show_shapes=True, show_layer_names=True)"
   ]
  },
  {
   "cell_type": "code",
   "execution_count": 561,
   "metadata": {},
   "outputs": [],
   "source": [
    "# generate fake deta, which are the output of the generator model\n",
    "def fake_samples(generator, ndim, n):\n",
    "    x = generate_noise(ndim, n)\n",
    "    X = generator.predict(x)\n",
    "    y = np.zeros((n, 1)) # labels\n",
    "    return X, y\n"
   ]
  },
  {
   "cell_type": "code",
   "execution_count": 562,
   "metadata": {},
   "outputs": [],
   "source": [
    "def monitor_output(discriminator, generator, ndim, epoch, n=100):\n",
    "    # create real samples\n",
    "    xr, yr = real_samples(n)\n",
    "    \n",
    "    # evaluate discriminator on real examples\n",
    "    r_loss, r_acc = discriminator.evaluate(xr, yr, verbose=0)\n",
    "    \n",
    "    # create fake samples\n",
    "    xf, yf = fake_samples(generator, ndim, n)\n",
    "    \n",
    "    # evaluate discriminator on fake examples\n",
    "    f_loss, f_acc = discriminator.evaluate(xf, yf, verbose=0)\n",
    "    \n",
    "    # print accuracy\n",
    "    print(epoch, r_loss, r_acc , f_loss, f_acc)\n",
    "    \n",
    "    # plot real and fake output\n",
    "    plt.scatter(xr[:, 0], xr[:, 1], color='red')\n",
    "    plt.scatter(xf[:, 0], xf[:, 1], color='black')\n",
    "    plt.show()"
   ]
  },
  {
   "cell_type": "code",
   "execution_count": 563,
   "metadata": {},
   "outputs": [],
   "source": [
    "# iteration loop"
   ]
  },
  {
   "cell_type": "code",
   "execution_count": 564,
   "metadata": {},
   "outputs": [],
   "source": [
    "def train_gan(discriminator, generator, gan, ndim, epochs=2000, batch=128, out_interval=400):\n",
    "    # determine half the size of one batch, for updating the discriminator\n",
    "    half_batch = int(batch / 2)\n",
    "    # manually enumerate epochs\n",
    "    for i in range(epochs):\n",
    "        # create real samples\n",
    "        x_real, y_real = real_samples(half_batch)\n",
    "        # create fake samples as outpout for generator\n",
    "        x_fake, y_fake = fake_samples(generator, ndim, half_batch)\n",
    "        # update discriminator\n",
    "        discriminator.train_on_batch(x_real, y_real)\n",
    "        discriminator.train_on_batch(x_fake, y_fake)\n",
    "        # pcreate noise data as input for the generator\n",
    "        x_gan = generate_noise(ndim, batch)\n",
    "        # create inverted labels for the fake samples\n",
    "        y_gan = np.ones((batch, 1))\n",
    "        # update generator via the discriminator loss\n",
    "        gan.train_on_batch(x_gan, y_gan)\n",
    "        # evaluate the model every n_eval epochs\n",
    "        if (i+1) % out_interval == 0:\n",
    "            monitor_output(discriminator, generator, ndim, i+1)"
   ]
  },
  {
   "cell_type": "code",
   "execution_count": 565,
   "metadata": {},
   "outputs": [
    {
     "name": "stdout",
     "output_type": "stream",
     "text": [
      "400 0.6509634256362915 1.0 0.7318186163902283 0.029999999329447746\n"
     ]
    },
    {
     "data": {
      "image/png": "[encoded data removed]",
      "text/plain": [
       "<Figure size 432x288 with 1 Axes>"
      ]
     },
     "metadata": {
      "needs_background": "light"
     },
     "output_type": "display_data"
    },
    {
     "name": "stdout",
     "output_type": "stream",
     "text": [
      "800 0.6855348348617554 0.7900000214576721 0.6917199492454529 0.5\n"
     ]
    },
    {
     "data": {
      "image/png": "[encoded data removed]",
      "text/plain": [
       "<Figure size 432x288 with 1 Axes>"
      ]
     },
     "metadata": {
      "needs_background": "light"
     },
     "output_type": "display_data"
    },
    {
     "name": "stdout",
     "output_type": "stream",
     "text": [
      "1200 0.6791692972183228 0.6299999952316284 0.689065158367157 0.6800000071525574\n"
     ]
    },
    {
     "data": {
      "image/png": "[encoded data removed]",
      "text/plain": [
       "<Figure size 432x288 with 1 Axes>"
      ]
     },
     "metadata": {
      "needs_background": "light"
     },
     "output_type": "display_data"
    },
    {
     "name": "stdout",
     "output_type": "stream",
     "text": [
      "1600 0.6890462636947632 0.3100000023841858 0.6948437690734863 0.6299999952316284\n"
     ]
    },
    {
     "data": {
      "image/png": "[encoded data removed]",
      "text/plain": [
       "<Figure size 432x288 with 1 Axes>"
      ]
     },
     "metadata": {
      "needs_background": "light"
     },
     "output_type": "display_data"
    },
    {
     "name": "stdout",
     "output_type": "stream",
     "text": [
      "2000 0.7406485080718994 0.12999999523162842 0.6517472863197327 0.8100000023841858\n"
     ]
    },
    {
     "data": {
      "image/png": "[encoded data removed]",
      "text/plain": [
       "<Figure size 432x288 with 1 Axes>"
      ]
     },
     "metadata": {
      "needs_background": "light"
     },
     "output_type": "display_data"
    }
   ],
   "source": [
    "# size of the latent space\n",
    "ndim =2\n",
    "# create the discriminator\n",
    "D = discriminator()\n",
    "# create the generator\n",
    "G =generator(ndim)\n",
    "# create the gan\n",
    "gan_model = gan(D,G)\n",
    "# train model\n",
    "train_gan(D,G, gan_model, ndim)"
   ]
  },
  {
   "cell_type": "code",
   "execution_count": 1,
   "metadata": {},
   "outputs": [],
   "source": [
    "# Ref: https://machinelearningmastery.com/how-to-develop-a-generative-adversarial-network-for-a-1-dimensional-function-from-scratch-in-keras/"
   ]
  }
 ],
 "metadata": {
  "kernelspec": {
   "display_name": "Python 3",
   "language": "python",
   "name": "python3"
  },
  "language_info": {
   "codemirror_mode": {
    "name": "ipython",
    "version": 3
   },
   "file_extension": ".py",
   "mimetype": "text/x-python",
   "name": "python",
   "nbconvert_exporter": "python",
   "pygments_lexer": "ipython3",
   "version": "3.8.2"
  }
 },
 "nbformat": 4,
 "nbformat_minor": 4
}
